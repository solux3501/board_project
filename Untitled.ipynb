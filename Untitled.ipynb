{
 "cells": [
  {
   "cell_type": "code",
   "execution_count": 3,
   "id": "12d1bd5a-d132-4b03-93df-4e6a98dd7aa6",
   "metadata": {},
   "outputs": [],
   "source": [
    "import venv, os"
   ]
  },
  {
   "cell_type": "code",
   "execution_count": 4,
   "id": "27b205cc-9284-459f-860d-503206cd6716",
   "metadata": {},
   "outputs": [
    {
     "name": "stdout",
     "output_type": "stream",
     "text": [
      "가상환경 생성 완료 :  C:\\Users\\solux\\board_project\\venv\n"
     ]
    }
   ],
   "source": [
    "venv_dir = os.path.join(os.getcwd(), \"venv\")\n",
    "builder = venv.EnvBuilder(with_pip=True)\n",
    "builder.create(venv_dir)\n",
    "print(\"가상환경 생성 완료 : \", venv_dir)"
   ]
  }
 ],
 "metadata": {
  "kernelspec": {
   "display_name": "Python [conda env:base] *",
   "language": "python",
   "name": "conda-base-py"
  },
  "language_info": {
   "codemirror_mode": {
    "name": "ipython",
    "version": 3
   },
   "file_extension": ".py",
   "mimetype": "text/x-python",
   "name": "python",
   "nbconvert_exporter": "python",
   "pygments_lexer": "ipython3",
   "version": "3.13.5"
  }
 },
 "nbformat": 4,
 "nbformat_minor": 5
}
